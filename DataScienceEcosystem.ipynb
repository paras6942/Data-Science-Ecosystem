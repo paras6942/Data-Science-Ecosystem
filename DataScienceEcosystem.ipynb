{
 "cells": [
  {
   "cell_type": "markdown",
   "id": "e00bf556-d9ce-4cbc-b737-038c4d5b391f",
   "metadata": {},
   "source": [
    "# Data Science Tools and Ecosystem"
   ]
  },
  {
   "cell_type": "markdown",
   "id": "c07a394c-dc3c-4976-ab3f-6b89f2f6fc34",
   "metadata": {},
   "source": [
    "In this notebook, Data Science Tools and Ecosystem are summarized."
   ]
  },
  {
   "cell_type": "markdown",
   "id": "144461f0-1f1c-4a8d-8e64-f7861d1e107b",
   "metadata": {},
   "source": [
    "Some of the popular languages that Data Scientists use are:\n",
    "1. Python\n",
    "2. R\n",
    "3. SQL\n",
    "4. Julia\n",
    "5. Scala"
   ]
  },
  {
   "cell_type": "markdown",
   "id": "52e29e5f-a56f-4382-afea-6721c18f02bf",
   "metadata": {},
   "source": [
    "Some of the commonly used libraries used by Data Scientists include:\n",
    "\n",
    "1. Python NumPy\n",
    "2. Python Scikit-learn\n",
    "3. R ggplot\n",
    "4. R caret"
   ]
  },
  {
   "cell_type": "markdown",
   "id": "daf71dce-9695-4afb-8f95-12010fe066ad",
   "metadata": {},
   "source": [
    "| Data Science Tools | \n",
    "| - |\n",
    "| Jupyter Notebook |\n",
    "| - |\n",
    "| R-Studio | \n",
    "| - |\n",
    "| Apache Hadoop | "
   ]
  },
  {
   "cell_type": "markdown",
   "id": "acde15a0-638c-45c2-bc90-cc4f25ba104a",
   "metadata": {},
   "source": [
    "### Below are a few examples of evaluating arithmetic expressions in Python"
   ]
  },
  {
   "cell_type": "code",
   "execution_count": 4,
   "id": "985d6e06-5318-4753-84ba-07bb475b210e",
   "metadata": {},
   "outputs": [
    {
     "data": {
      "text/plain": [
       "17"
      ]
     },
     "execution_count": 4,
     "metadata": {},
     "output_type": "execute_result"
    }
   ],
   "source": [
    "# This a simple arithmetic expression to mutiply then add integers\n",
    "(3*4) + 5"
   ]
  },
  {
   "cell_type": "code",
   "execution_count": 5,
   "id": "d2c8f97f-2221-4bf5-9ce7-cdc8358e4509",
   "metadata": {},
   "outputs": [
    {
     "data": {
      "text/plain": [
       "3.3333333333333335"
      ]
     },
     "execution_count": 5,
     "metadata": {},
     "output_type": "execute_result"
    }
   ],
   "source": [
    "# This will convert 200 minutes to hours by diving by 60\n",
    "200/60"
   ]
  },
  {
   "cell_type": "markdown",
   "id": "46008c2e-a218-42e5-a78b-a73215f1cb5b",
   "metadata": {},
   "source": [
    "**Objectives:**\n",
    "In this course, we learned about various tools used in Data Science like types programming languages and their associated libraries. We also learnt how to use the Jupyter notebook and how to save our projects on Github.\n",
    "The following languages are useful to a Data Scientist: \n",
    "* Python\n",
    "* R\n",
    "* SQL\n",
    "* Julia"
   ]
  },
  {
   "cell_type": "markdown",
   "id": "13152125-b61e-4977-8704-fcffde669f16",
   "metadata": {},
   "source": [
    "## Author\n",
    "Paras Chopra"
   ]
  },
  {
   "cell_type": "code",
   "execution_count": null,
   "id": "7beb0a59-292f-4a55-a21c-593cf451a2f9",
   "metadata": {},
   "outputs": [],
   "source": []
  }
 ],
 "metadata": {
  "kernelspec": {
   "display_name": "Python 3 (ipykernel)",
   "language": "python",
   "name": "python3"
  },
  "language_info": {
   "codemirror_mode": {
    "name": "ipython",
    "version": 3
   },
   "file_extension": ".py",
   "mimetype": "text/x-python",
   "name": "python",
   "nbconvert_exporter": "python",
   "pygments_lexer": "ipython3",
   "version": "3.11.2"
  }
 },
 "nbformat": 4,
 "nbformat_minor": 5
}
